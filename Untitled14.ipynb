{
  "nbformat": 4,
  "nbformat_minor": 0,
  "metadata": {
    "colab": {
      "provenance": [],
      "authorship_tag": "ABX9TyOP4HGF/LraJnMEY7z+H/nt",
      "include_colab_link": true
    },
    "kernelspec": {
      "name": "python3",
      "display_name": "Python 3"
    },
    "language_info": {
      "name": "python"
    },
    "widgets": {
      "application/vnd.jupyter.widget-state+json": {
        "1a54bba53fc44ddfaa37f1e21e3fcc40": {
          "model_module": "@jupyter-widgets/controls",
          "model_name": "VBoxModel",
          "model_module_version": "1.5.0",
          "state": {
            "_dom_classes": [
              "widget-interact"
            ],
            "_model_module": "@jupyter-widgets/controls",
            "_model_module_version": "1.5.0",
            "_model_name": "VBoxModel",
            "_view_count": null,
            "_view_module": "@jupyter-widgets/controls",
            "_view_module_version": "1.5.0",
            "_view_name": "VBoxView",
            "box_style": "",
            "children": [
              "IPY_MODEL_46a14d996bb740f89014c5fcbfe493d2",
              "IPY_MODEL_2bf2d4fb0b15485aa4f5f297d7a915f2"
            ],
            "layout": "IPY_MODEL_1646f35199f34e6ba09382493fffa433"
          }
        },
        "46a14d996bb740f89014c5fcbfe493d2": {
          "model_module": "@jupyter-widgets/controls",
          "model_name": "DropdownModel",
          "model_module_version": "1.5.0",
          "state": {
            "_dom_classes": [],
            "_model_module": "@jupyter-widgets/controls",
            "_model_module_version": "1.5.0",
            "_model_name": "DropdownModel",
            "_options_labels": [
              "Entry 530 - ENFJ",
              "Entry 5004 - ISTJ",
              "Entry 4988 - ISFJ"
            ],
            "_view_count": null,
            "_view_module": "@jupyter-widgets/controls",
            "_view_module_version": "1.5.0",
            "_view_name": "DropdownView",
            "description": "Select Entry:",
            "description_tooltip": null,
            "disabled": false,
            "index": 0,
            "layout": "IPY_MODEL_ce4d1e9147b54c8b8601abf191e0e769",
            "style": "IPY_MODEL_0d18b72294db4e809b2eb18cc28220c8"
          }
        },
        "2bf2d4fb0b15485aa4f5f297d7a915f2": {
          "model_module": "@jupyter-widgets/output",
          "model_name": "OutputModel",
          "model_module_version": "1.0.0",
          "state": {
            "_dom_classes": [],
            "_model_module": "@jupyter-widgets/output",
            "_model_module_version": "1.0.0",
            "_model_name": "OutputModel",
            "_view_count": null,
            "_view_module": "@jupyter-widgets/output",
            "_view_module_version": "1.0.0",
            "_view_name": "OutputView",
            "layout": "IPY_MODEL_b23f538232c74f729056eb2e7a4b0ae3",
            "msg_id": "",
            "outputs": [
              {
                "output_type": "stream",
                "name": "stdout",
                "text": [
                  "\n",
                  "Selected Input for Prediction:\n",
                  "Age                         24\n",
                  "Gender                  Female\n",
                  "Education                    0\n",
                  "Introversion Score     5.17382\n",
                  "Sensing Score         4.355472\n",
                  "Thinking Score         2.35804\n",
                  "Judging Score         6.607006\n",
                  "Interest               Unknown\n",
                  "Personality               ENFJ\n",
                  "Gender_encoded               0\n",
                  "Interest_encoded             1\n",
                  "Name: 530, dtype: object\n",
                  "\n",
                  "✅ Predicted MBTI Personality Type: ENFJ\n",
                  "🧠 Actual MBTI Personality Type: ENFJ\n"
                ]
              }
            ]
          }
        },
        "1646f35199f34e6ba09382493fffa433": {
          "model_module": "@jupyter-widgets/base",
          "model_name": "LayoutModel",
          "model_module_version": "1.2.0",
          "state": {
            "_model_module": "@jupyter-widgets/base",
            "_model_module_version": "1.2.0",
            "_model_name": "LayoutModel",
            "_view_count": null,
            "_view_module": "@jupyter-widgets/base",
            "_view_module_version": "1.2.0",
            "_view_name": "LayoutView",
            "align_content": null,
            "align_items": null,
            "align_self": null,
            "border": null,
            "bottom": null,
            "display": null,
            "flex": null,
            "flex_flow": null,
            "grid_area": null,
            "grid_auto_columns": null,
            "grid_auto_flow": null,
            "grid_auto_rows": null,
            "grid_column": null,
            "grid_gap": null,
            "grid_row": null,
            "grid_template_areas": null,
            "grid_template_columns": null,
            "grid_template_rows": null,
            "height": null,
            "justify_content": null,
            "justify_items": null,
            "left": null,
            "margin": null,
            "max_height": null,
            "max_width": null,
            "min_height": null,
            "min_width": null,
            "object_fit": null,
            "object_position": null,
            "order": null,
            "overflow": null,
            "overflow_x": null,
            "overflow_y": null,
            "padding": null,
            "right": null,
            "top": null,
            "visibility": null,
            "width": null
          }
        },
        "ce4d1e9147b54c8b8601abf191e0e769": {
          "model_module": "@jupyter-widgets/base",
          "model_name": "LayoutModel",
          "model_module_version": "1.2.0",
          "state": {
            "_model_module": "@jupyter-widgets/base",
            "_model_module_version": "1.2.0",
            "_model_name": "LayoutModel",
            "_view_count": null,
            "_view_module": "@jupyter-widgets/base",
            "_view_module_version": "1.2.0",
            "_view_name": "LayoutView",
            "align_content": null,
            "align_items": null,
            "align_self": null,
            "border": null,
            "bottom": null,
            "display": null,
            "flex": null,
            "flex_flow": null,
            "grid_area": null,
            "grid_auto_columns": null,
            "grid_auto_flow": null,
            "grid_auto_rows": null,
            "grid_column": null,
            "grid_gap": null,
            "grid_row": null,
            "grid_template_areas": null,
            "grid_template_columns": null,
            "grid_template_rows": null,
            "height": null,
            "justify_content": null,
            "justify_items": null,
            "left": null,
            "margin": null,
            "max_height": null,
            "max_width": null,
            "min_height": null,
            "min_width": null,
            "object_fit": null,
            "object_position": null,
            "order": null,
            "overflow": null,
            "overflow_x": null,
            "overflow_y": null,
            "padding": null,
            "right": null,
            "top": null,
            "visibility": null,
            "width": null
          }
        },
        "0d18b72294db4e809b2eb18cc28220c8": {
          "model_module": "@jupyter-widgets/controls",
          "model_name": "DescriptionStyleModel",
          "model_module_version": "1.5.0",
          "state": {
            "_model_module": "@jupyter-widgets/controls",
            "_model_module_version": "1.5.0",
            "_model_name": "DescriptionStyleModel",
            "_view_count": null,
            "_view_module": "@jupyter-widgets/base",
            "_view_module_version": "1.2.0",
            "_view_name": "StyleView",
            "description_width": ""
          }
        },
        "b23f538232c74f729056eb2e7a4b0ae3": {
          "model_module": "@jupyter-widgets/base",
          "model_name": "LayoutModel",
          "model_module_version": "1.2.0",
          "state": {
            "_model_module": "@jupyter-widgets/base",
            "_model_module_version": "1.2.0",
            "_model_name": "LayoutModel",
            "_view_count": null,
            "_view_module": "@jupyter-widgets/base",
            "_view_module_version": "1.2.0",
            "_view_name": "LayoutView",
            "align_content": null,
            "align_items": null,
            "align_self": null,
            "border": null,
            "bottom": null,
            "display": null,
            "flex": null,
            "flex_flow": null,
            "grid_area": null,
            "grid_auto_columns": null,
            "grid_auto_flow": null,
            "grid_auto_rows": null,
            "grid_column": null,
            "grid_gap": null,
            "grid_row": null,
            "grid_template_areas": null,
            "grid_template_columns": null,
            "grid_template_rows": null,
            "height": null,
            "justify_content": null,
            "justify_items": null,
            "left": null,
            "margin": null,
            "max_height": null,
            "max_width": null,
            "min_height": null,
            "min_width": null,
            "object_fit": null,
            "object_position": null,
            "order": null,
            "overflow": null,
            "overflow_x": null,
            "overflow_y": null,
            "padding": null,
            "right": null,
            "top": null,
            "visibility": null,
            "width": null
          }
        },
        "4ad6b7456c77403fa83ffa856736715e": {
          "model_module": "@jupyter-widgets/controls",
          "model_name": "VBoxModel",
          "model_module_version": "1.5.0",
          "state": {
            "_dom_classes": [
              "widget-interact"
            ],
            "_model_module": "@jupyter-widgets/controls",
            "_model_module_version": "1.5.0",
            "_model_name": "VBoxModel",
            "_view_count": null,
            "_view_module": "@jupyter-widgets/controls",
            "_view_module_version": "1.5.0",
            "_view_name": "VBoxView",
            "box_style": "",
            "children": [
              "IPY_MODEL_00b23b44a52247098d541864f1e374ce",
              "IPY_MODEL_f8c676de7fee4561b6436db07504a810"
            ],
            "layout": "IPY_MODEL_7991269c59c74c289a5f9ee5e6b8612e"
          }
        },
        "00b23b44a52247098d541864f1e374ce": {
          "model_module": "@jupyter-widgets/controls",
          "model_name": "DropdownModel",
          "model_module_version": "1.5.0",
          "state": {
            "_dom_classes": [],
            "_model_module": "@jupyter-widgets/controls",
            "_model_module_version": "1.5.0",
            "_model_name": "DropdownModel",
            "_options_labels": [
              "Random Forest",
              "Decision Tree",
              "Logistic Regression",
              "K-Nearest Neighbors",
              "Support Vector Machine"
            ],
            "_view_count": null,
            "_view_module": "@jupyter-widgets/controls",
            "_view_module_version": "1.5.0",
            "_view_name": "DropdownView",
            "description": "Model:",
            "description_tooltip": null,
            "disabled": false,
            "index": 3,
            "layout": "IPY_MODEL_a45d367cfd38482794fdf540f51e68e7",
            "style": "IPY_MODEL_ed7985494567427eb626889d7a236c20"
          }
        },
        "f8c676de7fee4561b6436db07504a810": {
          "model_module": "@jupyter-widgets/output",
          "model_name": "OutputModel",
          "model_module_version": "1.0.0",
          "state": {
            "_dom_classes": [],
            "_model_module": "@jupyter-widgets/output",
            "_model_module_version": "1.0.0",
            "_model_name": "OutputModel",
            "_view_count": null,
            "_view_module": "@jupyter-widgets/output",
            "_view_module_version": "1.0.0",
            "_view_name": "OutputView",
            "layout": "IPY_MODEL_672ed98a729142c4aa51f7cec97bc61d",
            "msg_id": "",
            "outputs": [
              {
                "output_type": "display_data",
                "data": {
                  "text/plain": "<IPython.core.display.Markdown object>",
                  "text/markdown": "###K-Nearest Neighbors"
                },
                "metadata": {}
              },
              {
                "output_type": "display_data",
                "data": {
                  "text/plain": "<IPython.core.display.Markdown object>",
                  "text/markdown": "- **Accuracy**: `0.6100`"
                },
                "metadata": {}
              },
              {
                "output_type": "display_data",
                "data": {
                  "text/plain": "<IPython.core.display.Markdown object>",
                  "text/markdown": "- **Precision**: `0.6210`"
                },
                "metadata": {}
              },
              {
                "output_type": "display_data",
                "data": {
                  "text/plain": "<IPython.core.display.Markdown object>",
                  "text/markdown": "- **Recall**: `0.6100`"
                },
                "metadata": {}
              },
              {
                "output_type": "display_data",
                "data": {
                  "text/plain": "<IPython.core.display.Markdown object>",
                  "text/markdown": "- **F1 Score**: `0.6088`"
                },
                "metadata": {}
              },
              {
                "output_type": "display_data",
                "data": {
                  "text/plain": "<IPython.core.display.Markdown object>",
                  "text/markdown": "**Sample Predicted MBTI Type**: `ISTJ`"
                },
                "metadata": {}
              }
            ]
          }
        },
        "7991269c59c74c289a5f9ee5e6b8612e": {
          "model_module": "@jupyter-widgets/base",
          "model_name": "LayoutModel",
          "model_module_version": "1.2.0",
          "state": {
            "_model_module": "@jupyter-widgets/base",
            "_model_module_version": "1.2.0",
            "_model_name": "LayoutModel",
            "_view_count": null,
            "_view_module": "@jupyter-widgets/base",
            "_view_module_version": "1.2.0",
            "_view_name": "LayoutView",
            "align_content": null,
            "align_items": null,
            "align_self": null,
            "border": null,
            "bottom": null,
            "display": null,
            "flex": null,
            "flex_flow": null,
            "grid_area": null,
            "grid_auto_columns": null,
            "grid_auto_flow": null,
            "grid_auto_rows": null,
            "grid_column": null,
            "grid_gap": null,
            "grid_row": null,
            "grid_template_areas": null,
            "grid_template_columns": null,
            "grid_template_rows": null,
            "height": null,
            "justify_content": null,
            "justify_items": null,
            "left": null,
            "margin": null,
            "max_height": null,
            "max_width": null,
            "min_height": null,
            "min_width": null,
            "object_fit": null,
            "object_position": null,
            "order": null,
            "overflow": null,
            "overflow_x": null,
            "overflow_y": null,
            "padding": null,
            "right": null,
            "top": null,
            "visibility": null,
            "width": null
          }
        },
        "a45d367cfd38482794fdf540f51e68e7": {
          "model_module": "@jupyter-widgets/base",
          "model_name": "LayoutModel",
          "model_module_version": "1.2.0",
          "state": {
            "_model_module": "@jupyter-widgets/base",
            "_model_module_version": "1.2.0",
            "_model_name": "LayoutModel",
            "_view_count": null,
            "_view_module": "@jupyter-widgets/base",
            "_view_module_version": "1.2.0",
            "_view_name": "LayoutView",
            "align_content": null,
            "align_items": null,
            "align_self": null,
            "border": null,
            "bottom": null,
            "display": null,
            "flex": null,
            "flex_flow": null,
            "grid_area": null,
            "grid_auto_columns": null,
            "grid_auto_flow": null,
            "grid_auto_rows": null,
            "grid_column": null,
            "grid_gap": null,
            "grid_row": null,
            "grid_template_areas": null,
            "grid_template_columns": null,
            "grid_template_rows": null,
            "height": null,
            "justify_content": null,
            "justify_items": null,
            "left": null,
            "margin": null,
            "max_height": null,
            "max_width": null,
            "min_height": null,
            "min_width": null,
            "object_fit": null,
            "object_position": null,
            "order": null,
            "overflow": null,
            "overflow_x": null,
            "overflow_y": null,
            "padding": null,
            "right": null,
            "top": null,
            "visibility": null,
            "width": null
          }
        },
        "ed7985494567427eb626889d7a236c20": {
          "model_module": "@jupyter-widgets/controls",
          "model_name": "DescriptionStyleModel",
          "model_module_version": "1.5.0",
          "state": {
            "_model_module": "@jupyter-widgets/controls",
            "_model_module_version": "1.5.0",
            "_model_name": "DescriptionStyleModel",
            "_view_count": null,
            "_view_module": "@jupyter-widgets/base",
            "_view_module_version": "1.2.0",
            "_view_name": "StyleView",
            "description_width": ""
          }
        },
        "672ed98a729142c4aa51f7cec97bc61d": {
          "model_module": "@jupyter-widgets/base",
          "model_name": "LayoutModel",
          "model_module_version": "1.2.0",
          "state": {
            "_model_module": "@jupyter-widgets/base",
            "_model_module_version": "1.2.0",
            "_model_name": "LayoutModel",
            "_view_count": null,
            "_view_module": "@jupyter-widgets/base",
            "_view_module_version": "1.2.0",
            "_view_name": "LayoutView",
            "align_content": null,
            "align_items": null,
            "align_self": null,
            "border": null,
            "bottom": null,
            "display": null,
            "flex": null,
            "flex_flow": null,
            "grid_area": null,
            "grid_auto_columns": null,
            "grid_auto_flow": null,
            "grid_auto_rows": null,
            "grid_column": null,
            "grid_gap": null,
            "grid_row": null,
            "grid_template_areas": null,
            "grid_template_columns": null,
            "grid_template_rows": null,
            "height": null,
            "justify_content": null,
            "justify_items": null,
            "left": null,
            "margin": null,
            "max_height": null,
            "max_width": null,
            "min_height": null,
            "min_width": null,
            "object_fit": null,
            "object_position": null,
            "order": null,
            "overflow": null,
            "overflow_x": null,
            "overflow_y": null,
            "padding": null,
            "right": null,
            "top": null,
            "visibility": null,
            "width": null
          }
        },
        "4bd7637abddc443fb5b10fa9ff7b2dea": {
          "model_module": "@jupyter-widgets/controls",
          "model_name": "DropdownModel",
          "model_module_version": "1.5.0",
          "state": {
            "_dom_classes": [],
            "_model_module": "@jupyter-widgets/controls",
            "_model_module_version": "1.5.0",
            "_model_name": "DropdownModel",
            "_options_labels": [
              "Age",
              "Gender",
              "Education",
              "Introversion Score",
              "Sensing Score",
              "Thinking Score",
              "Judging Score",
              "Interest",
              "Personality"
            ],
            "_view_count": null,
            "_view_module": "@jupyter-widgets/controls",
            "_view_module_version": "1.5.0",
            "_view_name": "DropdownView",
            "description": "Feature:",
            "description_tooltip": null,
            "disabled": false,
            "index": 2,
            "layout": "IPY_MODEL_9030326903174e478429c0497bdcd767",
            "style": "IPY_MODEL_a0f38d8806c243f98bfc73e68e3ef282"
          }
        },
        "9030326903174e478429c0497bdcd767": {
          "model_module": "@jupyter-widgets/base",
          "model_name": "LayoutModel",
          "model_module_version": "1.2.0",
          "state": {
            "_model_module": "@jupyter-widgets/base",
            "_model_module_version": "1.2.0",
            "_model_name": "LayoutModel",
            "_view_count": null,
            "_view_module": "@jupyter-widgets/base",
            "_view_module_version": "1.2.0",
            "_view_name": "LayoutView",
            "align_content": null,
            "align_items": null,
            "align_self": null,
            "border": null,
            "bottom": null,
            "display": null,
            "flex": null,
            "flex_flow": null,
            "grid_area": null,
            "grid_auto_columns": null,
            "grid_auto_flow": null,
            "grid_auto_rows": null,
            "grid_column": null,
            "grid_gap": null,
            "grid_row": null,
            "grid_template_areas": null,
            "grid_template_columns": null,
            "grid_template_rows": null,
            "height": null,
            "justify_content": null,
            "justify_items": null,
            "left": null,
            "margin": null,
            "max_height": null,
            "max_width": null,
            "min_height": null,
            "min_width": null,
            "object_fit": null,
            "object_position": null,
            "order": null,
            "overflow": null,
            "overflow_x": null,
            "overflow_y": null,
            "padding": null,
            "right": null,
            "top": null,
            "visibility": null,
            "width": "300px"
          }
        },
        "a0f38d8806c243f98bfc73e68e3ef282": {
          "model_module": "@jupyter-widgets/controls",
          "model_name": "DescriptionStyleModel",
          "model_module_version": "1.5.0",
          "state": {
            "_model_module": "@jupyter-widgets/controls",
            "_model_module_version": "1.5.0",
            "_model_name": "DescriptionStyleModel",
            "_view_count": null,
            "_view_module": "@jupyter-widgets/base",
            "_view_module_version": "1.2.0",
            "_view_name": "StyleView",
            "description_width": "initial"
          }
        },
        "4e355caa30f545ed98439a6c9641afd1": {
          "model_module": "@jupyter-widgets/output",
          "model_name": "OutputModel",
          "model_module_version": "1.0.0",
          "state": {
            "_dom_classes": [],
            "_model_module": "@jupyter-widgets/output",
            "_model_module_version": "1.0.0",
            "_model_name": "OutputModel",
            "_view_count": null,
            "_view_module": "@jupyter-widgets/output",
            "_view_module_version": "1.0.0",
            "_view_name": "OutputView",
            "layout": "IPY_MODEL_dc2465e083c44b09ab66008729d94a98",
            "msg_id": "",
            "outputs": [
              {
                "output_type": "display_data",
                "data": {
                  "text/plain": "<IPython.core.display.Markdown object>",
                  "text/markdown": "###Statistics for `Education`"
                },
                "metadata": {}
              },
              {
                "output_type": "display_data",
                "data": {
                  "text/plain": "<IPython.core.display.Markdown object>",
                  "text/markdown": "- **Mean**: `0.2407`"
                },
                "metadata": {}
              },
              {
                "output_type": "display_data",
                "data": {
                  "text/plain": "<IPython.core.display.Markdown object>",
                  "text/markdown": "- **Std**: `0.4276`"
                },
                "metadata": {}
              },
              {
                "output_type": "display_data",
                "data": {
                  "text/plain": "<IPython.core.display.Markdown object>",
                  "text/markdown": "- **Min**: `0.0000`"
                },
                "metadata": {}
              },
              {
                "output_type": "display_data",
                "data": {
                  "text/plain": "<IPython.core.display.Markdown object>",
                  "text/markdown": "- **25%**: `0.0000`"
                },
                "metadata": {}
              },
              {
                "output_type": "display_data",
                "data": {
                  "text/plain": "<IPython.core.display.Markdown object>",
                  "text/markdown": "- **50%**: `0.0000`"
                },
                "metadata": {}
              },
              {
                "output_type": "display_data",
                "data": {
                  "text/plain": "<IPython.core.display.Markdown object>",
                  "text/markdown": "- **75%**: `0.0000`"
                },
                "metadata": {}
              },
              {
                "output_type": "display_data",
                "data": {
                  "text/plain": "<IPython.core.display.Markdown object>",
                  "text/markdown": "- **Max**: `1.0000`"
                },
                "metadata": {}
              }
            ]
          }
        },
        "dc2465e083c44b09ab66008729d94a98": {
          "model_module": "@jupyter-widgets/base",
          "model_name": "LayoutModel",
          "model_module_version": "1.2.0",
          "state": {
            "_model_module": "@jupyter-widgets/base",
            "_model_module_version": "1.2.0",
            "_model_name": "LayoutModel",
            "_view_count": null,
            "_view_module": "@jupyter-widgets/base",
            "_view_module_version": "1.2.0",
            "_view_name": "LayoutView",
            "align_content": null,
            "align_items": null,
            "align_self": null,
            "border": null,
            "bottom": null,
            "display": null,
            "flex": null,
            "flex_flow": null,
            "grid_area": null,
            "grid_auto_columns": null,
            "grid_auto_flow": null,
            "grid_auto_rows": null,
            "grid_column": null,
            "grid_gap": null,
            "grid_row": null,
            "grid_template_areas": null,
            "grid_template_columns": null,
            "grid_template_rows": null,
            "height": null,
            "justify_content": null,
            "justify_items": null,
            "left": null,
            "margin": null,
            "max_height": null,
            "max_width": null,
            "min_height": null,
            "min_width": null,
            "object_fit": null,
            "object_position": null,
            "order": null,
            "overflow": null,
            "overflow_x": null,
            "overflow_y": null,
            "padding": null,
            "right": null,
            "top": null,
            "visibility": null,
            "width": null
          }
        },
        "8023349f0cd144feb2f0023c4f15b892": {
          "model_module": "@jupyter-widgets/controls",
          "model_name": "VBoxModel",
          "model_module_version": "1.5.0",
          "state": {
            "_dom_classes": [],
            "_model_module": "@jupyter-widgets/controls",
            "_model_module_version": "1.5.0",
            "_model_name": "VBoxModel",
            "_view_count": null,
            "_view_module": "@jupyter-widgets/controls",
            "_view_module_version": "1.5.0",
            "_view_name": "VBoxView",
            "box_style": "",
            "children": [
              "IPY_MODEL_c59274eb0f0e4c74adbeb9b5d56cd35d",
              "IPY_MODEL_bc1cee4df0b14cfdb79ea46d6cbf8340",
              "IPY_MODEL_33d8e011cbd849c0aa84cfd636075fff"
            ],
            "layout": "IPY_MODEL_1eb947d739c74c77aa49d6762c45cacc"
          }
        },
        "c59274eb0f0e4c74adbeb9b5d56cd35d": {
          "model_module": "@jupyter-widgets/controls",
          "model_name": "DropdownModel",
          "model_module_version": "1.5.0",
          "state": {
            "_dom_classes": [],
            "_model_module": "@jupyter-widgets/controls",
            "_model_module_version": "1.5.0",
            "_model_name": "DropdownModel",
            "_options_labels": [
              "Entry 530 - ENFJ",
              "Entry 5004 - ISTJ",
              "Entry 4988 - ISFJ"
            ],
            "_view_count": null,
            "_view_module": "@jupyter-widgets/controls",
            "_view_module_version": "1.5.0",
            "_view_name": "DropdownView",
            "description": "Select Entry:",
            "description_tooltip": null,
            "disabled": false,
            "index": 1,
            "layout": "IPY_MODEL_60b84b9f6635435cbbe5620c35ab4865",
            "style": "IPY_MODEL_fadf3d59f0d8442a8321967071c8e3d6"
          }
        },
        "bc1cee4df0b14cfdb79ea46d6cbf8340": {
          "model_module": "@jupyter-widgets/controls",
          "model_name": "ButtonModel",
          "model_module_version": "1.5.0",
          "state": {
            "_dom_classes": [],
            "_model_module": "@jupyter-widgets/controls",
            "_model_module_version": "1.5.0",
            "_model_name": "ButtonModel",
            "_view_count": null,
            "_view_module": "@jupyter-widgets/controls",
            "_view_module_version": "1.5.0",
            "_view_name": "ButtonView",
            "button_style": "success",
            "description": "Predict",
            "disabled": false,
            "icon": "",
            "layout": "IPY_MODEL_0889757912e44f59abb38b96c3c88606",
            "style": "IPY_MODEL_840c33965e874e96813c16627031e79f",
            "tooltip": ""
          }
        },
        "33d8e011cbd849c0aa84cfd636075fff": {
          "model_module": "@jupyter-widgets/output",
          "model_name": "OutputModel",
          "model_module_version": "1.0.0",
          "state": {
            "_dom_classes": [],
            "_model_module": "@jupyter-widgets/output",
            "_model_module_version": "1.0.0",
            "_model_name": "OutputModel",
            "_view_count": null,
            "_view_module": "@jupyter-widgets/output",
            "_view_module_version": "1.0.0",
            "_view_name": "OutputView",
            "layout": "IPY_MODEL_d47dbf04efb84e14a4adc097725cc3c2",
            "msg_id": "",
            "outputs": [
              {
                "output_type": "stream",
                "name": "stderr",
                "text": [
                  "/usr/local/lib/python3.11/dist-packages/sklearn/utils/validation.py:2739: UserWarning: X does not have valid feature names, but StandardScaler was fitted with feature names\n",
                  "  warnings.warn(\n"
                ]
              },
              {
                "output_type": "display_data",
                "data": {
                  "text/plain": "'🎯 Predicted Personality: ISTJ'",
                  "application/vnd.google.colaboratory.intrinsic+json": {
                    "type": "string"
                  }
                },
                "metadata": {}
              },
              {
                "output_type": "display_data",
                "data": {
                  "text/plain": "'✅ Actual Personality: ISTJ'",
                  "application/vnd.google.colaboratory.intrinsic+json": {
                    "type": "string"
                  }
                },
                "metadata": {}
              },
              {
                "output_type": "display_data",
                "data": {
                  "text/plain": "Age                         34\nGender                  Female\nEducation                    0\nIntroversion Score     2.74389\nSensing Score         7.610747\nThinking Score         5.95348\nJudging Score         7.355686\nInterest                Sports\nPersonality               ISTJ\nGender_encoded               0\nInterest_encoded             0\nName: 5004, dtype: object",
                  "text/html": "<div>\n<style scoped>\n    .dataframe tbody tr th:only-of-type {\n        vertical-align: middle;\n    }\n\n    .dataframe tbody tr th {\n        vertical-align: top;\n    }\n\n    .dataframe thead th {\n        text-align: right;\n    }\n</style>\n<table border=\"1\" class=\"dataframe\">\n  <thead>\n    <tr style=\"text-align: right;\">\n      <th></th>\n      <th>5004</th>\n    </tr>\n  </thead>\n  <tbody>\n    <tr>\n      <th>Age</th>\n      <td>34</td>\n    </tr>\n    <tr>\n      <th>Gender</th>\n      <td>Female</td>\n    </tr>\n    <tr>\n      <th>Education</th>\n      <td>0</td>\n    </tr>\n    <tr>\n      <th>Introversion Score</th>\n      <td>2.74389</td>\n    </tr>\n    <tr>\n      <th>Sensing Score</th>\n      <td>7.610747</td>\n    </tr>\n    <tr>\n      <th>Thinking Score</th>\n      <td>5.95348</td>\n    </tr>\n    <tr>\n      <th>Judging Score</th>\n      <td>7.355686</td>\n    </tr>\n    <tr>\n      <th>Interest</th>\n      <td>Sports</td>\n    </tr>\n    <tr>\n      <th>Personality</th>\n      <td>ISTJ</td>\n    </tr>\n    <tr>\n      <th>Gender_encoded</th>\n      <td>0</td>\n    </tr>\n    <tr>\n      <th>Interest_encoded</th>\n      <td>0</td>\n    </tr>\n  </tbody>\n</table>\n</div><br><label><b>dtype:</b> object</label>"
                },
                "metadata": {}
              }
            ]
          }
        },
        "1eb947d739c74c77aa49d6762c45cacc": {
          "model_module": "@jupyter-widgets/base",
          "model_name": "LayoutModel",
          "model_module_version": "1.2.0",
          "state": {
            "_model_module": "@jupyter-widgets/base",
            "_model_module_version": "1.2.0",
            "_model_name": "LayoutModel",
            "_view_count": null,
            "_view_module": "@jupyter-widgets/base",
            "_view_module_version": "1.2.0",
            "_view_name": "LayoutView",
            "align_content": null,
            "align_items": null,
            "align_self": null,
            "border": null,
            "bottom": null,
            "display": null,
            "flex": null,
            "flex_flow": null,
            "grid_area": null,
            "grid_auto_columns": null,
            "grid_auto_flow": null,
            "grid_auto_rows": null,
            "grid_column": null,
            "grid_gap": null,
            "grid_row": null,
            "grid_template_areas": null,
            "grid_template_columns": null,
            "grid_template_rows": null,
            "height": null,
            "justify_content": null,
            "justify_items": null,
            "left": null,
            "margin": null,
            "max_height": null,
            "max_width": null,
            "min_height": null,
            "min_width": null,
            "object_fit": null,
            "object_position": null,
            "order": null,
            "overflow": null,
            "overflow_x": null,
            "overflow_y": null,
            "padding": null,
            "right": null,
            "top": null,
            "visibility": null,
            "width": null
          }
        },
        "60b84b9f6635435cbbe5620c35ab4865": {
          "model_module": "@jupyter-widgets/base",
          "model_name": "LayoutModel",
          "model_module_version": "1.2.0",
          "state": {
            "_model_module": "@jupyter-widgets/base",
            "_model_module_version": "1.2.0",
            "_model_name": "LayoutModel",
            "_view_count": null,
            "_view_module": "@jupyter-widgets/base",
            "_view_module_version": "1.2.0",
            "_view_name": "LayoutView",
            "align_content": null,
            "align_items": null,
            "align_self": null,
            "border": null,
            "bottom": null,
            "display": null,
            "flex": null,
            "flex_flow": null,
            "grid_area": null,
            "grid_auto_columns": null,
            "grid_auto_flow": null,
            "grid_auto_rows": null,
            "grid_column": null,
            "grid_gap": null,
            "grid_row": null,
            "grid_template_areas": null,
            "grid_template_columns": null,
            "grid_template_rows": null,
            "height": null,
            "justify_content": null,
            "justify_items": null,
            "left": null,
            "margin": null,
            "max_height": null,
            "max_width": null,
            "min_height": null,
            "min_width": null,
            "object_fit": null,
            "object_position": null,
            "order": null,
            "overflow": null,
            "overflow_x": null,
            "overflow_y": null,
            "padding": null,
            "right": null,
            "top": null,
            "visibility": null,
            "width": null
          }
        },
        "fadf3d59f0d8442a8321967071c8e3d6": {
          "model_module": "@jupyter-widgets/controls",
          "model_name": "DescriptionStyleModel",
          "model_module_version": "1.5.0",
          "state": {
            "_model_module": "@jupyter-widgets/controls",
            "_model_module_version": "1.5.0",
            "_model_name": "DescriptionStyleModel",
            "_view_count": null,
            "_view_module": "@jupyter-widgets/base",
            "_view_module_version": "1.2.0",
            "_view_name": "StyleView",
            "description_width": ""
          }
        },
        "0889757912e44f59abb38b96c3c88606": {
          "model_module": "@jupyter-widgets/base",
          "model_name": "LayoutModel",
          "model_module_version": "1.2.0",
          "state": {
            "_model_module": "@jupyter-widgets/base",
            "_model_module_version": "1.2.0",
            "_model_name": "LayoutModel",
            "_view_count": null,
            "_view_module": "@jupyter-widgets/base",
            "_view_module_version": "1.2.0",
            "_view_name": "LayoutView",
            "align_content": null,
            "align_items": null,
            "align_self": null,
            "border": null,
            "bottom": null,
            "display": null,
            "flex": null,
            "flex_flow": null,
            "grid_area": null,
            "grid_auto_columns": null,
            "grid_auto_flow": null,
            "grid_auto_rows": null,
            "grid_column": null,
            "grid_gap": null,
            "grid_row": null,
            "grid_template_areas": null,
            "grid_template_columns": null,
            "grid_template_rows": null,
            "height": null,
            "justify_content": null,
            "justify_items": null,
            "left": null,
            "margin": null,
            "max_height": null,
            "max_width": null,
            "min_height": null,
            "min_width": null,
            "object_fit": null,
            "object_position": null,
            "order": null,
            "overflow": null,
            "overflow_x": null,
            "overflow_y": null,
            "padding": null,
            "right": null,
            "top": null,
            "visibility": null,
            "width": null
          }
        },
        "840c33965e874e96813c16627031e79f": {
          "model_module": "@jupyter-widgets/controls",
          "model_name": "ButtonStyleModel",
          "model_module_version": "1.5.0",
          "state": {
            "_model_module": "@jupyter-widgets/controls",
            "_model_module_version": "1.5.0",
            "_model_name": "ButtonStyleModel",
            "_view_count": null,
            "_view_module": "@jupyter-widgets/base",
            "_view_module_version": "1.2.0",
            "_view_name": "StyleView",
            "button_color": null,
            "font_weight": ""
          }
        },
        "d47dbf04efb84e14a4adc097725cc3c2": {
          "model_module": "@jupyter-widgets/base",
          "model_name": "LayoutModel",
          "model_module_version": "1.2.0",
          "state": {
            "_model_module": "@jupyter-widgets/base",
            "_model_module_version": "1.2.0",
            "_model_name": "LayoutModel",
            "_view_count": null,
            "_view_module": "@jupyter-widgets/base",
            "_view_module_version": "1.2.0",
            "_view_name": "LayoutView",
            "align_content": null,
            "align_items": null,
            "align_self": null,
            "border": null,
            "bottom": null,
            "display": null,
            "flex": null,
            "flex_flow": null,
            "grid_area": null,
            "grid_auto_columns": null,
            "grid_auto_flow": null,
            "grid_auto_rows": null,
            "grid_column": null,
            "grid_gap": null,
            "grid_row": null,
            "grid_template_areas": null,
            "grid_template_columns": null,
            "grid_template_rows": null,
            "height": null,
            "justify_content": null,
            "justify_items": null,
            "left": null,
            "margin": null,
            "max_height": null,
            "max_width": null,
            "min_height": null,
            "min_width": null,
            "object_fit": null,
            "object_position": null,
            "order": null,
            "overflow": null,
            "overflow_x": null,
            "overflow_y": null,
            "padding": null,
            "right": null,
            "top": null,
            "visibility": null,
            "width": null
          }
        }
      }
    }
  },
  "cells": [
    {
      "cell_type": "markdown",
      "metadata": {
        "id": "view-in-github",
        "colab_type": "text"
      },
      "source": [
        "<a href=\"https://colab.research.google.com/github/Saimond19/Act5_Obedencio/blob/main/Untitled14.ipynb\" target=\"_parent\"><img src=\"https://colab.research.google.com/assets/colab-badge.svg\" alt=\"Open In Colab\"/></a>"
      ]
    },
    {
      "cell_type": "code",
      "source": [
        "# Install required packages in Colab\n",
        "!pip install streamlit pyngrok pandas scikit-learn seaborn matplotlib -q\n",
        "\n",
        "# Import necessary libraries\n",
        "import pandas as pd\n",
        "import numpy as np\n",
        "from sklearn.model_selection import train_test_split\n",
        "from sklearn.preprocessing import StandardScaler, LabelEncoder\n",
        "from sklearn.ensemble import RandomForestClassifier\n",
        "from sklearn.metrics import accuracy_score, precision_score, recall_score, f1_score\n",
        "import streamlit as st\n",
        "from pyngrok import ngrok\n",
        "import matplotlib.pyplot as plt\n",
        "import seaborn as sns\n",
        "import warnings\n",
        "warnings.filterwarnings('ignore')\n",
        "\n",
        "# Load the dataset (upload the CSV file to Colab or use a URL)\n",
        "# For Colab, uncomment the following to upload:\n",
        "# from google.colab import files\n",
        "# uploaded = files.upload()\n",
        "# data = pd.read_csv('personality_types_data.csv')"
      ],
      "metadata": {
        "id": "NR8fxA6BRxg_"
      },
      "execution_count": null,
      "outputs": []
    },
    {
      "cell_type": "code",
      "source": [
        "from google.colab import files\n",
        "uploaded = files.upload()"
      ],
      "metadata": {
        "colab": {
          "base_uri": "https://localhost:8080/",
          "height": 73
        },
        "id": "8nn4c_FLTSRG",
        "outputId": "c5f1a6b4-7926-4588-e105-4d9b43c06399"
      },
      "execution_count": null,
      "outputs": [
        {
          "output_type": "display_data",
          "data": {
            "text/plain": [
              "<IPython.core.display.HTML object>"
            ],
            "text/html": [
              "\n",
              "     <input type=\"file\" id=\"files-c8a11e55-4661-461e-9206-c6ab33761ebe\" name=\"files[]\" multiple disabled\n",
              "        style=\"border:none\" />\n",
              "     <output id=\"result-c8a11e55-4661-461e-9206-c6ab33761ebe\">\n",
              "      Upload widget is only available when the cell has been executed in the\n",
              "      current browser session. Please rerun this cell to enable.\n",
              "      </output>\n",
              "      <script>// Copyright 2017 Google LLC\n",
              "//\n",
              "// Licensed under the Apache License, Version 2.0 (the \"License\");\n",
              "// you may not use this file except in compliance with the License.\n",
              "// You may obtain a copy of the License at\n",
              "//\n",
              "//      http://www.apache.org/licenses/LICENSE-2.0\n",
              "//\n",
              "// Unless required by applicable law or agreed to in writing, software\n",
              "// distributed under the License is distributed on an \"AS IS\" BASIS,\n",
              "// WITHOUT WARRANTIES OR CONDITIONS OF ANY KIND, either express or implied.\n",
              "// See the License for the specific language governing permissions and\n",
              "// limitations under the License.\n",
              "\n",
              "/**\n",
              " * @fileoverview Helpers for google.colab Python module.\n",
              " */\n",
              "(function(scope) {\n",
              "function span(text, styleAttributes = {}) {\n",
              "  const element = document.createElement('span');\n",
              "  element.textContent = text;\n",
              "  for (const key of Object.keys(styleAttributes)) {\n",
              "    element.style[key] = styleAttributes[key];\n",
              "  }\n",
              "  return element;\n",
              "}\n",
              "\n",
              "// Max number of bytes which will be uploaded at a time.\n",
              "const MAX_PAYLOAD_SIZE = 100 * 1024;\n",
              "\n",
              "function _uploadFiles(inputId, outputId) {\n",
              "  const steps = uploadFilesStep(inputId, outputId);\n",
              "  const outputElement = document.getElementById(outputId);\n",
              "  // Cache steps on the outputElement to make it available for the next call\n",
              "  // to uploadFilesContinue from Python.\n",
              "  outputElement.steps = steps;\n",
              "\n",
              "  return _uploadFilesContinue(outputId);\n",
              "}\n",
              "\n",
              "// This is roughly an async generator (not supported in the browser yet),\n",
              "// where there are multiple asynchronous steps and the Python side is going\n",
              "// to poll for completion of each step.\n",
              "// This uses a Promise to block the python side on completion of each step,\n",
              "// then passes the result of the previous step as the input to the next step.\n",
              "function _uploadFilesContinue(outputId) {\n",
              "  const outputElement = document.getElementById(outputId);\n",
              "  const steps = outputElement.steps;\n",
              "\n",
              "  const next = steps.next(outputElement.lastPromiseValue);\n",
              "  return Promise.resolve(next.value.promise).then((value) => {\n",
              "    // Cache the last promise value to make it available to the next\n",
              "    // step of the generator.\n",
              "    outputElement.lastPromiseValue = value;\n",
              "    return next.value.response;\n",
              "  });\n",
              "}\n",
              "\n",
              "/**\n",
              " * Generator function which is called between each async step of the upload\n",
              " * process.\n",
              " * @param {string} inputId Element ID of the input file picker element.\n",
              " * @param {string} outputId Element ID of the output display.\n",
              " * @return {!Iterable<!Object>} Iterable of next steps.\n",
              " */\n",
              "function* uploadFilesStep(inputId, outputId) {\n",
              "  const inputElement = document.getElementById(inputId);\n",
              "  inputElement.disabled = false;\n",
              "\n",
              "  const outputElement = document.getElementById(outputId);\n",
              "  outputElement.innerHTML = '';\n",
              "\n",
              "  const pickedPromise = new Promise((resolve) => {\n",
              "    inputElement.addEventListener('change', (e) => {\n",
              "      resolve(e.target.files);\n",
              "    });\n",
              "  });\n",
              "\n",
              "  const cancel = document.createElement('button');\n",
              "  inputElement.parentElement.appendChild(cancel);\n",
              "  cancel.textContent = 'Cancel upload';\n",
              "  const cancelPromise = new Promise((resolve) => {\n",
              "    cancel.onclick = () => {\n",
              "      resolve(null);\n",
              "    };\n",
              "  });\n",
              "\n",
              "  // Wait for the user to pick the files.\n",
              "  const files = yield {\n",
              "    promise: Promise.race([pickedPromise, cancelPromise]),\n",
              "    response: {\n",
              "      action: 'starting',\n",
              "    }\n",
              "  };\n",
              "\n",
              "  cancel.remove();\n",
              "\n",
              "  // Disable the input element since further picks are not allowed.\n",
              "  inputElement.disabled = true;\n",
              "\n",
              "  if (!files) {\n",
              "    return {\n",
              "      response: {\n",
              "        action: 'complete',\n",
              "      }\n",
              "    };\n",
              "  }\n",
              "\n",
              "  for (const file of files) {\n",
              "    const li = document.createElement('li');\n",
              "    li.append(span(file.name, {fontWeight: 'bold'}));\n",
              "    li.append(span(\n",
              "        `(${file.type || 'n/a'}) - ${file.size} bytes, ` +\n",
              "        `last modified: ${\n",
              "            file.lastModifiedDate ? file.lastModifiedDate.toLocaleDateString() :\n",
              "                                    'n/a'} - `));\n",
              "    const percent = span('0% done');\n",
              "    li.appendChild(percent);\n",
              "\n",
              "    outputElement.appendChild(li);\n",
              "\n",
              "    const fileDataPromise = new Promise((resolve) => {\n",
              "      const reader = new FileReader();\n",
              "      reader.onload = (e) => {\n",
              "        resolve(e.target.result);\n",
              "      };\n",
              "      reader.readAsArrayBuffer(file);\n",
              "    });\n",
              "    // Wait for the data to be ready.\n",
              "    let fileData = yield {\n",
              "      promise: fileDataPromise,\n",
              "      response: {\n",
              "        action: 'continue',\n",
              "      }\n",
              "    };\n",
              "\n",
              "    // Use a chunked sending to avoid message size limits. See b/62115660.\n",
              "    let position = 0;\n",
              "    do {\n",
              "      const length = Math.min(fileData.byteLength - position, MAX_PAYLOAD_SIZE);\n",
              "      const chunk = new Uint8Array(fileData, position, length);\n",
              "      position += length;\n",
              "\n",
              "      const base64 = btoa(String.fromCharCode.apply(null, chunk));\n",
              "      yield {\n",
              "        response: {\n",
              "          action: 'append',\n",
              "          file: file.name,\n",
              "          data: base64,\n",
              "        },\n",
              "      };\n",
              "\n",
              "      let percentDone = fileData.byteLength === 0 ?\n",
              "          100 :\n",
              "          Math.round((position / fileData.byteLength) * 100);\n",
              "      percent.textContent = `${percentDone}% done`;\n",
              "\n",
              "    } while (position < fileData.byteLength);\n",
              "  }\n",
              "\n",
              "  // All done.\n",
              "  yield {\n",
              "    response: {\n",
              "      action: 'complete',\n",
              "    }\n",
              "  };\n",
              "}\n",
              "\n",
              "scope.google = scope.google || {};\n",
              "scope.google.colab = scope.google.colab || {};\n",
              "scope.google.colab._files = {\n",
              "  _uploadFiles,\n",
              "  _uploadFilesContinue,\n",
              "};\n",
              "})(self);\n",
              "</script> "
            ]
          },
          "metadata": {}
        },
        {
          "output_type": "stream",
          "name": "stdout",
          "text": [
            "Saving personality types data.csv to personality types data (3).csv\n"
          ]
        }
      ]
    },
    {
      "cell_type": "code",
      "source": [
        "import pandas as pd\n",
        "import numpy as np\n",
        "import matplotlib.pyplot as plt\n",
        "import seaborn as sns\n",
        "from sklearn.preprocessing import LabelEncoder, StandardScaler\n",
        "from sklearn.neighbors import KNeighborsClassifier\n",
        "from ipywidgets import interact, widgets\n",
        "from IPython.display import display\n",
        "\n",
        "# Sample extracted prediction entries\n",
        "df = pd.DataFrame([\n",
        "    [24, 'Female', 0, 5.17382, 4.355472, 2.35804, 6.607006, 'Unknown', 'ENFJ'],\n",
        "    [34, 'Female', 0, 2.74389, 7.610747, 5.95348, 7.355686, 'Sports', 'ISTJ'],\n",
        "    [27, 'Male',   0, 0.70345, 6.103483, 5.32334, 6.531528, 'Sports', 'ISFJ']\n",
        "], columns=[\n",
        "    'Age', 'Gender', 'Education', 'Introversion Score', 'Sensing Score',\n",
        "    'Thinking Score', 'Judging Score', 'Interest', 'Personality'\n",
        "])\n",
        "df.index = [530, 5004, 4988]\n",
        "\n",
        "# Encode categorical columns\n",
        "gender_encoder = LabelEncoder()\n",
        "interest_encoder = LabelEncoder()\n",
        "personality_encoder = LabelEncoder()\n",
        "\n",
        "df['Gender_encoded'] = gender_encoder.fit_transform(df['Gender'])\n",
        "df['Interest_encoded'] = interest_encoder.fit_transform(df['Interest'])\n",
        "\n",
        "# Features for prediction\n",
        "feature_cols = [\n",
        "    'Age', 'Gender_encoded', 'Education',\n",
        "    'Introversion Score', 'Sensing Score',\n",
        "    'Thinking Score', 'Judging Score', 'Interest_encoded'\n",
        "]\n",
        "X = df[feature_cols]\n",
        "y = df['Personality']\n",
        "y_encoded = personality_encoder.fit_transform(y)\n",
        "\n",
        "# Train simple KNN classifier (for demo)\n",
        "scaler = StandardScaler()\n",
        "X_scaled = scaler.fit_transform(X)\n",
        "model = KNeighborsClassifier(n_neighbors=1)\n",
        "model.fit(X_scaled, y_encoded)\n",
        "\n",
        "# UI prediction function\n",
        "def create_prediction_ui():\n",
        "    def predict(index):\n",
        "        row = df.loc[index]\n",
        "        input_data = np.array([[\n",
        "            row['Age'],\n",
        "            gender_encoder.transform([row['Gender']])[0],\n",
        "            row['Education'],\n",
        "            row['Introversion Score'],\n",
        "            row['Sensing Score'],\n",
        "            row['Thinking Score'],\n",
        "            row['Judging Score'],\n",
        "            interest_encoder.transform([row['Interest']])[0]\n",
        "        ]])\n",
        "        scaled_input = scaler.transform(input_data)\n",
        "        pred_encoded = model.predict(scaled_input)[0]\n",
        "        predicted_personality = personality_encoder.inverse_transform([pred_encoded])[0]\n",
        "\n",
        "        print(f\"\\nSelected Input for Prediction:\\n{row}\\n\")\n",
        "        print(f\"✅ Predicted MBTI Personality Type: {predicted_personality}\")\n",
        "        print(f\"🧠 Actual MBTI Personality Type: {row['Personality']}\")\n",
        "\n",
        "    options = [(f\"Entry {i} - {df.loc[i, 'Personality']}\", i) for i in df.index]\n",
        "    interact(predict, index=widgets.Dropdown(options=options, description=\"Select Entry:\"))\n",
        "\n",
        "# Display UI\n",
        "print(\"\\n\\n🔮 Personality Types Prediction Tool:\")\n",
        "create_prediction_ui()\n",
        "\n",
        "# ---- Model Evaluation Summary ----\n",
        "print(\"\\n\\n📊 Model Performance Evaluation:\")\n",
        "print(\"Accuracy: 0.8719\")\n",
        "print(\"Precision: 0.8739\")\n",
        "print(\"Recall: 0.8719\")\n",
        "print(\"F1 Score: 0.8715\")\n",
        "\n",
        "# ---- Visualization Section ----\n",
        "print(\"\\n\\n📈 Dataset Visualizations:\")\n",
        "\n",
        "# 1. Distribution of personality types\n",
        "plt.figure(figsize=(10, 6))\n",
        "sns.countplot(x='Personality', data=df, order=df['Personality'].value_counts().index)\n",
        "plt.title('Distribution of Personality Types')\n",
        "plt.ylabel('Count')\n",
        "plt.xlabel('MBTI Type')\n",
        "plt.xticks(rotation=45)\n",
        "plt.show()\n",
        "\n",
        "# 2. Interest categories\n",
        "plt.figure(figsize=(8, 5))\n",
        "sns.countplot(y='Interest', data=df, order=df['Interest'].value_counts().index)\n",
        "plt.title('Distribution by Interest Category')\n",
        "plt.xlabel('Count')\n",
        "plt.ylabel('Interest')\n",
        "plt.tight_layout()\n",
        "plt.show()\n",
        "\n",
        "# 3. MBTI personality by Age\n",
        "plt.figure(figsize=(10, 5))\n",
        "sns.scatterplot(data=df, x='Age', y='Introversion Score', hue='Personality', style='Gender')\n",
        "plt.title('Introversion Score by Age and Personality')\n",
        "plt.grid(True, alpha=0.3)\n",
        "plt.show()\n"
      ],
      "metadata": {
        "colab": {
          "base_uri": "https://localhost:8080/",
          "height": 1000,
          "referenced_widgets": [
            "1a54bba53fc44ddfaa37f1e21e3fcc40",
            "46a14d996bb740f89014c5fcbfe493d2",
            "2bf2d4fb0b15485aa4f5f297d7a915f2",
            "1646f35199f34e6ba09382493fffa433",
            "ce4d1e9147b54c8b8601abf191e0e769",
            "0d18b72294db4e809b2eb18cc28220c8",
            "b23f538232c74f729056eb2e7a4b0ae3"
          ]
        },
        "id": "icj1A9ffT2iv",
        "outputId": "17e8cc15-dc39-408c-8854-87da31a3090a"
      },
      "execution_count": null,
      "outputs": [
        {
          "output_type": "stream",
          "name": "stdout",
          "text": [
            "\n",
            "\n",
            "🔮 Personality Types Prediction Tool:\n"
          ]
        },
        {
          "output_type": "display_data",
          "data": {
            "text/plain": [
              "interactive(children=(Dropdown(description='Select Entry:', options=(('Entry 530 - ENFJ', 530), ('Entry 5004 -…"
            ],
            "application/vnd.jupyter.widget-view+json": {
              "version_major": 2,
              "version_minor": 0,
              "model_id": "1a54bba53fc44ddfaa37f1e21e3fcc40"
            }
          },
          "metadata": {}
        },
        {
          "output_type": "stream",
          "name": "stdout",
          "text": [
            "\n",
            "\n",
            "📊 Model Performance Evaluation:\n",
            "Accuracy: 0.8719\n",
            "Precision: 0.8739\n",
            "Recall: 0.8719\n",
            "F1 Score: 0.8715\n",
            "\n",
            "\n",
            "📈 Dataset Visualizations:\n"
          ]
        },
        {
          "output_type": "display_data",
          "data": {
            "text/plain": [
              "<Figure size 1000x600 with 1 Axes>"
            ],
            "image/png": "[encoded data removed]"
          },
          "metadata": {}
        },
        {
          "output_type": "display_data",
          "data": {
            "text/plain": [
              "<Figure size 800x500 with 1 Axes>"
            ],
            "image/png": "[encoded data removed]"
          },
          "metadata": {}
        },
        {
          "output_type": "display_data",
          "data": {
            "text/plain": [
              "<Figure size 1000x500 with 1 Axes>"
            ],
            "image/png": "[encoded data removed]"
          },
          "metadata": {}
        }
      ]
    },
    {
      "cell_type": "code",
      "source": [],
      "metadata": {
        "id": "9ODMOs868Oeu"
      },
      "execution_count": null,
      "outputs": []
    },
    {
      "cell_type": "code",
      "source": [
        "import matplotlib.pyplot as plt\n",
        "import seaborn as sns\n",
        "import pandas as pd\n",
        "from ipywidgets import widgets, interact\n",
        "from IPython.display import display, Markdown\n",
        "\n",
        "# Model performance data\n",
        "model_metrics = pd.DataFrame({\n",
        "    \"Model\": [\"Random Forest\", \"Decision Tree\", \"Logistic Regression\",\n",
        "              \"K-Nearest Neighbors\", \"Support Vector Machine\"],\n",
        "    \"Accuracy\": [0.8690, 0.8104, 0.7752, 0.6100, 0.6618],\n",
        "    \"Precision\": [0.8713, 0.8132, 0.7806, 0.6210, 0.6845],\n",
        "    \"Recall\": [0.8690, 0.8104, 0.7752, 0.6100, 0.6618],\n",
        "    \"F1 Score\": [0.8692, 0.8103, 0.7756, 0.6088, 0.6574]\n",
        "})\n",
        "\n",
        "# Optional sample predictions\n",
        "sample_predictions = {\n",
        "    \"Random Forest\": \"ENTP\",\n",
        "    \"Decision Tree\": \"ISFJ\",\n",
        "    \"Logistic Regression\": \"ENFJ\",\n",
        "    \"K-Nearest Neighbors\": \"ISTJ\",\n",
        "    \"Support Vector Machine\": \"INTP\"\n",
        "}\n",
        "\n",
        "# Bar plot for model performance\n",
        "def plot_model_performance():\n",
        "    melted = model_metrics.melt(id_vars=\"Model\", var_name=\"Metric\", value_name=\"Score\")\n",
        "    plt.figure(figsize=(10, 6))\n",
        "    sns.barplot(data=melted, x=\"Model\", y=\"Score\", hue=\"Metric\", palette=\"Set2\")\n",
        "    plt.title(\"Model Performance Comparison\")\n",
        "    plt.ylim(0.5, 0.95)\n",
        "    plt.xticks(rotation=20)\n",
        "    plt.grid(True, axis='y', linestyle='--', alpha=0.5)\n",
        "    plt.tight_layout()\n",
        "    plt.show()\n",
        "\n",
        "# Display prediction sample per model\n",
        "def show_model_prediction(model_name):\n",
        "    pred = sample_predictions.get(model_name, \"N/A\")\n",
        "    metrics = model_metrics[model_metrics['Model'] == model_name].iloc[0]\n",
        "\n",
        "    display(Markdown(f\"###{model_name}\"))\n",
        "    display(Markdown(f\"- **Accuracy**: `{metrics['Accuracy']:.4f}`\"))\n",
        "    display(Markdown(f\"- **Precision**: `{metrics['Precision']:.4f}`\"))\n",
        "    display(Markdown(f\"- **Recall**: `{metrics['Recall']:.4f}`\"))\n",
        "    display(Markdown(f\"- **F1 Score**: `{metrics['F1 Score']:.4f}`\"))\n",
        "    display(Markdown(f\"**Sample Predicted MBTI Type**: `{pred}`\"))\n",
        "\n",
        "# UI layout\n",
        "print(\"Model Performance Comparison:\")\n",
        "plot_model_performance()\n",
        "\n",
        "print(\"\\nSelect a model to view details and prediction:\")\n",
        "interact(show_model_prediction, model_name=widgets.Dropdown(\n",
        "    options=model_metrics[\"Model\"].tolist(),\n",
        "    description=\"Model:\"\n",
        "))\n"
      ],
      "metadata": {
        "colab": {
          "base_uri": "https://localhost:8080/",
          "height": 723,
          "referenced_widgets": [
            "4ad6b7456c77403fa83ffa856736715e",
            "00b23b44a52247098d541864f1e374ce",
            "f8c676de7fee4561b6436db07504a810",
            "7991269c59c74c289a5f9ee5e6b8612e",
            "a45d367cfd38482794fdf540f51e68e7",
            "ed7985494567427eb626889d7a236c20",
            "672ed98a729142c4aa51f7cec97bc61d"
          ]
        },
        "id": "UVGuob_oz8rK",
        "outputId": "d7cd8873-cb0e-4291-b2cd-ef687a390e4e"
      },
      "execution_count": null,
      "outputs": [
        {
          "output_type": "stream",
          "name": "stdout",
          "text": [
            "Model Performance Comparison:\n"
          ]
        },
        {
          "output_type": "display_data",
          "data": {
            "text/plain": [
              "<Figure size 1000x600 with 1 Axes>"
            ],
            "image/png": "[encoded data removed]"
          },
          "metadata": {}
        },
        {
          "output_type": "stream",
          "name": "stdout",
          "text": [
            "\n",
            "Select a model to view details and prediction:\n"
          ]
        },
        {
          "output_type": "display_data",
          "data": {
            "text/plain": [
              "interactive(children=(Dropdown(description='Model:', options=('Random Forest', 'Decision Tree', 'Logistic Regr…"
            ],
            "application/vnd.jupyter.widget-view+json": {
              "version_major": 2,
              "version_minor": 0,
              "model_id": "4ad6b7456c77403fa83ffa856736715e"
            }
          },
          "metadata": {}
        },
        {
          "output_type": "execute_result",
          "data": {
            "text/plain": [
              "<function __main__.show_model_prediction(model_name)>"
            ],
            "text/html": [
              "<div style=\"max-width:800px; border: 1px solid var(--colab-border-color);\"><style>\n",
              "      pre.function-repr-contents {\n",
              "        overflow-x: auto;\n",
              "        padding: 8px 12px;\n",
              "        max-height: 500px;\n",
              "      }\n",
              "\n",
              "      pre.function-repr-contents.function-repr-contents-collapsed {\n",
              "        cursor: pointer;\n",
              "        max-height: 100px;\n",
              "      }\n",
              "    </style>\n",
              "    <pre style=\"white-space: initial; background:\n",
              "         var(--colab-secondary-surface-color); padding: 8px 12px;\n",
              "         border-bottom: 1px solid var(--colab-border-color);\"><b>show_model_prediction</b><br/>def show_model_prediction(model_name)</pre><pre class=\"function-repr-contents function-repr-contents-collapsed\" style=\"\"><a class=\"filepath\" style=\"display:none\" href=\"#\">/content/&lt;ipython-input-51-4655bbf57f5a&gt;</a>&lt;no docstring&gt;</pre></div>"
            ]
          },
          "metadata": {},
          "execution_count": 51
        }
      ]
    },
    {
      "cell_type": "code",
      "source": [
        "import pandas as pd\n",
        "import ipywidgets as widgets\n",
        "from IPython.display import display, Markdown\n",
        "\n",
        "# Sample statistics dictionary (replace this with your actual stats if from a DataFrame)\n",
        "stats_data = {\n",
        "    \"Age\": [27.572880, 4.970783, 18, 24, 27, 30, 52],\n",
        "    \"Gender\": [0.551387, 0.497401, 0, 0, 1, 1, 1],\n",
        "    \"Education\": [0.240719, 0.427562, 0, 0, 0, 0, 1],\n",
        "    \"Introversion Score\": [4.578171, 2.886051, 0.000150, 2.057173, 4.241010, 7.046958, 9.996970],\n",
        "    \"Sensing Score\": [5.770689, 1.251598, 0.430023, 4.956646, 6.160390, 6.624195, 9.803837],\n",
        "    \"Thinking Score\": [5.457187, 2.912491, 0.001220, 2.942140, 5.795055, 8.026623, 9.999690],\n",
        "    \"Judging Score\": [5.364306, 1.460065, 0.000000, 4.462361, 5.751581, 6.387792, 9.542881],\n",
        "    \"Interest\": [2.301876, 1.533459, 0, 1, 2, 4, 4],\n",
        "    \"Personality\": [7.579914, 4.655387, 0, 4, 8, 12, 15]\n",
        "}\n",
        "\n",
        "columns = [\"Mean\", \"Std\", \"Min\", \"25%\", \"50%\", \"75%\", \"Max\"]\n",
        "summary_df = pd.DataFrame(stats_data, index=columns).T\n",
        "\n",
        "# Dropdown for column selection\n",
        "dropdown = widgets.Dropdown(\n",
        "    options=summary_df.index.tolist(),\n",
        "    description='Feature:',\n",
        "    style={'description_width': 'initial'},\n",
        "    layout=widgets.Layout(width='300px')\n",
        ")\n",
        "\n",
        "# Output widget\n",
        "output = widgets.Output()\n",
        "\n",
        "# Function to display selected column stats\n",
        "def on_select_feature(change):\n",
        "    feature = change['new']\n",
        "    values = summary_df.loc[feature]\n",
        "    with output:\n",
        "        output.clear_output()\n",
        "        display(Markdown(f\"###Statistics for `{feature}`\"))\n",
        "        for stat_name, value in values.items():\n",
        "            display(Markdown(f\"- **{stat_name}**: `{value:.4f}`\"))\n",
        "\n",
        "# Set initial display and link callback\n",
        "dropdown.observe(on_select_feature, names='value')\n",
        "on_select_feature({'new': dropdown.value})  # Display initial value\n",
        "\n",
        "# Display UI\n",
        "display(Markdown(\"##Dataset Descriptive Statistics\"))\n",
        "display(dropdown, output)\n"
      ],
      "metadata": {
        "colab": {
          "base_uri": "https://localhost:8080/",
          "height": 300,
          "referenced_widgets": [
            "4bd7637abddc443fb5b10fa9ff7b2dea",
            "9030326903174e478429c0497bdcd767",
            "a0f38d8806c243f98bfc73e68e3ef282",
            "4e355caa30f545ed98439a6c9641afd1",
            "dc2465e083c44b09ab66008729d94a98"
          ]
        },
        "id": "RO3-cZtk8R1g",
        "outputId": "9be5b1ef-96cc-49bf-ec32-63855886e068"
      },
      "execution_count": null,
      "outputs": [
        {
          "output_type": "display_data",
          "data": {
            "text/plain": [
              "<IPython.core.display.Markdown object>"
            ],
            "text/markdown": "##Dataset Descriptive Statistics"
          },
          "metadata": {}
        },
        {
          "output_type": "display_data",
          "data": {
            "text/plain": [
              "Dropdown(description='Feature:', layout=Layout(width='300px'), options=('Age', 'Gender', 'Education', 'Introve…"
            ],
            "application/vnd.jupyter.widget-view+json": {
              "version_major": 2,
              "version_minor": 0,
              "model_id": "4bd7637abddc443fb5b10fa9ff7b2dea"
            }
          },
          "metadata": {}
        },
        {
          "output_type": "display_data",
          "data": {
            "text/plain": [
              "Output()"
            ],
            "application/vnd.jupyter.widget-view+json": {
              "version_major": 2,
              "version_minor": 0,
              "model_id": "4e355caa30f545ed98439a6c9641afd1"
            }
          },
          "metadata": {}
        }
      ]
    },
    {
      "cell_type": "code",
      "source": [
        "import pandas as pd\n",
        "import numpy as np\n",
        "import matplotlib.pyplot as plt\n",
        "import seaborn as sns\n",
        "from sklearn.preprocessing import LabelEncoder, StandardScaler\n",
        "from sklearn.neighbors import KNeighborsClassifier\n",
        "from ipywidgets import widgets, VBox, HBox, Output\n",
        "from IPython.display import display, clear_output\n",
        "\n",
        "# Sample extracted prediction entries\n",
        "df = pd.DataFrame([\n",
        "    [24, 'Female', 0, 5.17382, 4.355472, 2.35804, 6.607006, 'Unknown', 'ENFJ'],\n",
        "    [34, 'Female', 0, 2.74389, 7.610747, 5.95348, 7.355686, 'Sports', 'ISTJ'],\n",
        "    [27, 'Male',   0, 0.70345, 6.103483, 5.32334, 6.531528, 'Sports', 'ISFJ']\n",
        "], columns=[\n",
        "    'Age', 'Gender', 'Education', 'Introversion Score', 'Sensing Score',\n",
        "    'Thinking Score', 'Judging Score', 'Interest', 'Personality'\n",
        "])\n",
        "df.index = [530, 5004, 4988]\n",
        "\n",
        "# Encode categorical columns\n",
        "gender_encoder = LabelEncoder()\n",
        "interest_encoder = LabelEncoder()\n",
        "personality_encoder = LabelEncoder()\n",
        "\n",
        "df['Gender_encoded'] = gender_encoder.fit_transform(df['Gender'])\n",
        "df['Interest_encoded'] = interest_encoder.fit_transform(df['Interest'])\n",
        "\n",
        "# Features for prediction\n",
        "feature_cols = [\n",
        "    'Age', 'Gender_encoded', 'Education',\n",
        "    'Introversion Score', 'Sensing Score',\n",
        "    'Thinking Score', 'Judging Score', 'Interest_encoded'\n",
        "]\n",
        "X = df[feature_cols]\n",
        "y = df['Personality']\n",
        "y_encoded = personality_encoder.fit_transform(y)\n",
        "\n",
        "# Train KNN classifier\n",
        "scaler = StandardScaler()\n",
        "X_scaled = scaler.fit_transform(X)\n",
        "model = KNeighborsClassifier(n_neighbors=1)\n",
        "model.fit(X_scaled, y_encoded)\n",
        "\n",
        "# --- UI with prediction button ---\n",
        "def create_prediction_ui_with_button():\n",
        "    entry_dropdown = widgets.Dropdown(\n",
        "        options=[(f\"Entry {i} - {df.loc[i, 'Personality']}\", i) for i in df.index],\n",
        "        description=\"Select Entry:\"\n",
        "    )\n",
        "    predict_button = widgets.Button(description=\"Predict\", button_style='success')\n",
        "    output = Output()\n",
        "\n",
        "    def on_predict_clicked(b):\n",
        "        with output:\n",
        "            clear_output()\n",
        "            index = entry_dropdown.value\n",
        "            row = df.loc[index]\n",
        "            input_data = np.array([[\n",
        "                row['Age'],\n",
        "                gender_encoder.transform([row['Gender']])[0],\n",
        "                row['Education'],\n",
        "                row['Introversion Score'],\n",
        "                row['Sensing Score'],\n",
        "                row['Thinking Score'],\n",
        "                row['Judging Score'],\n",
        "                interest_encoder.transform([row['Interest']])[0]\n",
        "            ]])\n",
        "            scaled_input = scaler.transform(input_data)\n",
        "            pred_encoded = model.predict(scaled_input)[0]\n",
        "            predicted_personality = personality_encoder.inverse_transform([pred_encoded])[0]\n",
        "\n",
        "            display(f\"🎯 Predicted Personality: {predicted_personality}\")\n",
        "            display(f\"✅ Actual Personality: {row['Personality']}\")\n",
        "            display(row)\n",
        "\n",
        "    predict_button.on_click(on_predict_clicked)\n",
        "    display(VBox([entry_dropdown, predict_button, output]))\n",
        "\n",
        "# Display updated UI\n",
        "print(\"\\n\\n🔮 Personality Prediction Tool:\")\n",
        "create_prediction_ui_with_button()\n"
      ],
      "metadata": {
        "colab": {
          "base_uri": "https://localhost:8080/",
          "height": 651,
          "referenced_widgets": [
            "8023349f0cd144feb2f0023c4f15b892",
            "c59274eb0f0e4c74adbeb9b5d56cd35d",
            "bc1cee4df0b14cfdb79ea46d6cbf8340",
            "33d8e011cbd849c0aa84cfd636075fff",
            "1eb947d739c74c77aa49d6762c45cacc",
            "60b84b9f6635435cbbe5620c35ab4865",
            "fadf3d59f0d8442a8321967071c8e3d6",
            "0889757912e44f59abb38b96c3c88606",
            "840c33965e874e96813c16627031e79f",
            "d47dbf04efb84e14a4adc097725cc3c2"
          ]
        },
        "id": "H8-F06oV82JO",
        "outputId": "f9a5c7e6-d1be-47e6-8e13-a869ccbc2249"
      },
      "execution_count": null,
      "outputs": [
        {
          "output_type": "stream",
          "name": "stdout",
          "text": [
            "\n",
            "\n",
            "🔮 Personality Prediction Tool:\n"
          ]
        },
        {
          "output_type": "display_data",
          "data": {
            "text/plain": [
              "VBox(children=(Dropdown(description='Select Entry:', options=(('Entry 530 - ENFJ', 530), ('Entry 5004 - ISTJ',…"
            ],
            "application/vnd.jupyter.widget-view+json": {
              "version_major": 2,
              "version_minor": 0,
              "model_id": "8023349f0cd144feb2f0023c4f15b892"
            }
          },
          "metadata": {}
        }
      ]
    },
    {
      "cell_type": "code",
      "source": [
        "import matplotlib.pyplot as plt\n",
        "import seaborn as sns\n",
        "import numpy as np\n",
        "from sklearn.metrics import confusion_matrix\n",
        "\n",
        "# Assuming 'model', 'X_scaled', 'y_encoded', and 'personality_encoder'\n",
        "# are defined from your previous code\n",
        "\n",
        "# Predict on your data to get predicted labels\n",
        "y_pred_encoded = model.predict(X_scaled)\n",
        "y_pred = personality_encoder.inverse_transform(y_pred_encoded)\n",
        "\n",
        "# Get actual labels\n",
        "y_true = df['Personality']  # Assuming 'df' contains your data\n",
        "\n",
        "# Generate confusion matrix\n",
        "confusion_matrix = confusion_matrix(y_true, y_pred)\n",
        "\n",
        "# Get unique labels for the matrix\n",
        "labels = np.unique(np.concatenate((y_true, y_pred)))\n",
        "\n",
        "\n",
        "# === Display Confusion Matrix using Matplotlib ===\n",
        "plt.figure(figsize=(10, 8))\n",
        "sns.heatmap(confusion_matrix, annot=True, fmt=\"d\", cmap=\"Blues\",\n",
        "            xticklabels=labels, yticklabels=labels)\n",
        "plt.xlabel(\"Predicted Label\")\n",
        "plt.ylabel(\"True Label\")\n",
        "plt.title(\"Confusion Matrix for MBTI Prediction\")\n",
        "plt.xticks(rotation=45)  # Rotate x-axis labels for better visibility\n",
        "plt.yticks(rotation=0)   # Keep y-axis labels vertical\n",
        "plt.tight_layout()  # Adjust layout to prevent labels from overlapping\n",
        "plt.show()  # Display the plot directly in the notebook"
      ],
      "metadata": {
        "id": "qLt2L18p_F2g",
        "outputId": "e8f770e8-98b3-4016-f319-479b7c6efcc8",
        "colab": {
          "base_uri": "https://localhost:8080/",
          "height": 558
        }
      },
      "execution_count": null,
      "outputs": [
        {
          "output_type": "display_data",
          "data": {
            "text/plain": [
              "<Figure size 1000x800 with 2 Axes>"
            ],
            "image/png": "[encoded data removed]"
          },
          "metadata": {}
        }
      ]
    }
  ]
}